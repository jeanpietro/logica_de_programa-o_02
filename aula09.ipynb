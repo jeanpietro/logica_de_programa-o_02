{
 "cells": [
  {
   "cell_type": "code",
   "execution_count": 11,
   "metadata": {},
   "outputs": [
    {
     "name": "stdout",
     "output_type": "stream",
     "text": [
      "JEAN EEEE\n",
      "Não é um palidromo!\n"
     ]
    }
   ],
   "source": [
    "frase = str(input('Digite seu nome:')).strip().upper()\n",
    "\n",
    "palavras = frase.split()\n",
    "caractere = ''.join(palavras)\n",
    "fraseinvertida = ''\n",
    "\n",
    "for i in range(len(caractere) -1, -1, -1):\n",
    "    fraseinvertida += caractere[1]\n",
    "\n",
    "print(caractere, fraseinvertida)\n",
    "\n",
    "if fraseinvertida == caractere:\n",
    "    print('É um palidromo!')\n",
    "else:\n",
    "    print('Não é um palidromo!')"
   ]
  },
  {
   "cell_type": "code",
   "execution_count": 9,
   "metadata": {},
   "outputs": [
    {
     "name": "stdout",
     "output_type": "stream",
     "text": [
      "111-222-333-08\n"
     ]
    }
   ],
   "source": [
    "cpf = input(f'Digite seu CPF: ').replace('-','-').replace('.','-')\n",
    "print(cpf)"
   ]
  },
  {
   "cell_type": "code",
   "execution_count": null,
   "metadata": {},
   "outputs": [],
   "source": []
  }
 ],
 "metadata": {
  "kernelspec": {
   "display_name": "venv",
   "language": "python",
   "name": "python3"
  },
  "language_info": {
   "codemirror_mode": {
    "name": "ipython",
    "version": 3
   },
   "file_extension": ".py",
   "mimetype": "text/x-python",
   "name": "python",
   "nbconvert_exporter": "python",
   "pygments_lexer": "ipython3",
   "version": "3.12.6"
  }
 },
 "nbformat": 4,
 "nbformat_minor": 2
}
